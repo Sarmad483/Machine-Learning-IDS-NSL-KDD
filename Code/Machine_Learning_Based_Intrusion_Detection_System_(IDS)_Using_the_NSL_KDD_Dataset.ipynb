{
  "nbformat": 4,
  "nbformat_minor": 0,
  "metadata": {
    "colab": {
      "provenance": []
    },
    "kernelspec": {
      "name": "python3",
      "display_name": "Python 3"
    },
    "language_info": {
      "name": "python"
    }
  },
  "cells": [
    {
      "cell_type": "code",
      "execution_count": 1,
      "metadata": {
        "id": "OWtJkra2P6sB"
      },
      "outputs": [],
      "source": [
        "# Data Handling and Preprocessing\n",
        "import pandas as pd            # DataFrame structure and data handling\n",
        "import numpy as np             # Numerical operations\n",
        "\n",
        "# Data Preprocessing\n",
        "from sklearn.model_selection import train_test_split    # Train-test split\n",
        "from sklearn.preprocessing import StandardScaler        # Feature scaling\n",
        "from sklearn.preprocessing import OneHotEncoder         # Encoding categorical features\n",
        "from imblearn.over_sampling import SMOTE                # Handling class imbalance\n",
        "\n",
        "# Model Training\n",
        "from sklearn.ensemble import RandomForestClassifier     # Random Forest\n",
        "from sklearn.svm import SVC                             # Support Vector Machine\n",
        "from xgboost import XGBClassifier                       # XGBoost model\n",
        "\n",
        "# Model Evaluation\n",
        "from sklearn.metrics import accuracy_score, precision_score, recall_score, f1_score   # Evaluation metrics\n",
        "from sklearn.metrics import confusion_matrix, roc_auc_score, roc_curve, auc           # Additional metrics and ROC\n",
        "\n",
        "# Model Optimization\n",
        "from sklearn.model_selection import GridSearchCV, RandomizedSearchCV   # Hyperparameter tuning\n",
        "\n",
        "# Visualization\n",
        "import matplotlib.pyplot as plt     # Data visualization\n",
        "import seaborn as sns               # Enhanced visualization\n",
        "\n",
        "# Interpretability\n",
        "import shap                          # SHAP for feature importance\n",
        "\n",
        "# System\n",
        "import warnings                      # To handle warnings\n",
        "warnings.filterwarnings('ignore')\n"
      ]
    },
    {
      "cell_type": "code",
      "source": [],
      "metadata": {
        "id": "L6ZS7yEiR2g7"
      },
      "execution_count": null,
      "outputs": []
    },
    {
      "cell_type": "code",
      "source": [
        "# Define column names for the NSL-KDD dataset\n",
        "column_names = [\n",
        "    'duration', 'protocol_type', 'service', 'flag', 'src_bytes', 'dst_bytes',\n",
        "    'land', 'wrong_fragment', 'urgent', 'hot', 'num_failed_logins',\n",
        "    'logged_in', 'num_compromised', 'root_shell', 'su_attempted',\n",
        "    'num_root', 'num_file_creations', 'num_shells', 'num_access_files',\n",
        "    'num_outbound_cmds', 'is_host_login', 'is_guest_login', 'count',\n",
        "    'srv_count', 'serror_rate', 'srv_serror_rate', 'rerror_rate',\n",
        "    'srv_rerror_rate', 'same_srv_rate', 'diff_srv_rate', 'srv_diff_host_rate',\n",
        "    'dst_host_count', 'dst_host_srv_count', 'dst_host_same_srv_rate',\n",
        "    'dst_host_diff_srv_rate', 'dst_host_same_src_port_rate',\n",
        "    'dst_host_srv_diff_host_rate', 'dst_host_serror_rate',\n",
        "    'dst_host_srv_serror_rate', 'dst_host_rerror_rate',\n",
        "    'dst_host_srv_rerror_rate', 'label', 'difficulty'\n",
        "]\n"
      ],
      "metadata": {
        "id": "TduoLv6iT7Ux"
      },
      "execution_count": 5,
      "outputs": []
    },
    {
      "cell_type": "code",
      "source": [
        "# Load the training data\n",
        "train_data = pd.read_csv('/content/drive/MyDrive/Colab Notebooks/Sarmad Project/Dataset/KDDTrain+.txt', names=column_names, sep=\",\", header=None)\n",
        "\n",
        "# Load the testing data\n",
        "test_data = pd.read_csv('/content/drive/MyDrive/Colab Notebooks/Sarmad Project/Dataset/KDDTest+.txt', names=column_names, sep=\",\", header=None)\n"
      ],
      "metadata": {
        "id": "rUG2pKznQ3IE"
      },
      "execution_count": 7,
      "outputs": []
    },
    {
      "cell_type": "code",
      "source": [
        "# Display the first few rows of the training data\n",
        "print(\"Training Data:\")\n",
        "print(train_data.head())\n",
        "\n",
        "# Display the first few rows of the testing data\n",
        "print(\"Testing Data:\")\n",
        "print(test_data.head())\n"
      ],
      "metadata": {
        "colab": {
          "base_uri": "https://localhost:8080/"
        },
        "id": "kabL2NFqSP1B",
        "outputId": "e317a178-23ee-4d47-9dae-c4cdfecf3fca"
      },
      "execution_count": 8,
      "outputs": [
        {
          "output_type": "stream",
          "name": "stdout",
          "text": [
            "Training Data:\n",
            "   duration protocol_type   service flag  src_bytes  dst_bytes  land  \\\n",
            "0         0           tcp  ftp_data   SF        491          0     0   \n",
            "1         0           udp     other   SF        146          0     0   \n",
            "2         0           tcp   private   S0          0          0     0   \n",
            "3         0           tcp      http   SF        232       8153     0   \n",
            "4         0           tcp      http   SF        199        420     0   \n",
            "\n",
            "   wrong_fragment  urgent  hot  ...  dst_host_same_srv_rate  \\\n",
            "0               0       0    0  ...                    0.17   \n",
            "1               0       0    0  ...                    0.00   \n",
            "2               0       0    0  ...                    0.10   \n",
            "3               0       0    0  ...                    1.00   \n",
            "4               0       0    0  ...                    1.00   \n",
            "\n",
            "   dst_host_diff_srv_rate  dst_host_same_src_port_rate  \\\n",
            "0                    0.03                         0.17   \n",
            "1                    0.60                         0.88   \n",
            "2                    0.05                         0.00   \n",
            "3                    0.00                         0.03   \n",
            "4                    0.00                         0.00   \n",
            "\n",
            "   dst_host_srv_diff_host_rate  dst_host_serror_rate  \\\n",
            "0                         0.00                  0.00   \n",
            "1                         0.00                  0.00   \n",
            "2                         0.00                  1.00   \n",
            "3                         0.04                  0.03   \n",
            "4                         0.00                  0.00   \n",
            "\n",
            "   dst_host_srv_serror_rate  dst_host_rerror_rate  dst_host_srv_rerror_rate  \\\n",
            "0                      0.00                  0.05                      0.00   \n",
            "1                      0.00                  0.00                      0.00   \n",
            "2                      1.00                  0.00                      0.00   \n",
            "3                      0.01                  0.00                      0.01   \n",
            "4                      0.00                  0.00                      0.00   \n",
            "\n",
            "     label  difficulty  \n",
            "0   normal          20  \n",
            "1   normal          15  \n",
            "2  neptune          19  \n",
            "3   normal          21  \n",
            "4   normal          21  \n",
            "\n",
            "[5 rows x 43 columns]\n",
            "Testing Data:\n",
            "   duration protocol_type   service  flag  src_bytes  dst_bytes  land  \\\n",
            "0         0           tcp   private   REJ          0          0     0   \n",
            "1         0           tcp   private   REJ          0          0     0   \n",
            "2         2           tcp  ftp_data    SF      12983          0     0   \n",
            "3         0          icmp     eco_i    SF         20          0     0   \n",
            "4         1           tcp    telnet  RSTO          0         15     0   \n",
            "\n",
            "   wrong_fragment  urgent  hot  ...  dst_host_same_srv_rate  \\\n",
            "0               0       0    0  ...                    0.04   \n",
            "1               0       0    0  ...                    0.00   \n",
            "2               0       0    0  ...                    0.61   \n",
            "3               0       0    0  ...                    1.00   \n",
            "4               0       0    0  ...                    0.31   \n",
            "\n",
            "   dst_host_diff_srv_rate  dst_host_same_src_port_rate  \\\n",
            "0                    0.06                         0.00   \n",
            "1                    0.06                         0.00   \n",
            "2                    0.04                         0.61   \n",
            "3                    0.00                         1.00   \n",
            "4                    0.17                         0.03   \n",
            "\n",
            "   dst_host_srv_diff_host_rate  dst_host_serror_rate  \\\n",
            "0                         0.00                   0.0   \n",
            "1                         0.00                   0.0   \n",
            "2                         0.02                   0.0   \n",
            "3                         0.28                   0.0   \n",
            "4                         0.02                   0.0   \n",
            "\n",
            "   dst_host_srv_serror_rate  dst_host_rerror_rate  dst_host_srv_rerror_rate  \\\n",
            "0                       0.0                  1.00                      1.00   \n",
            "1                       0.0                  1.00                      1.00   \n",
            "2                       0.0                  0.00                      0.00   \n",
            "3                       0.0                  0.00                      0.00   \n",
            "4                       0.0                  0.83                      0.71   \n",
            "\n",
            "     label  difficulty  \n",
            "0  neptune          21  \n",
            "1  neptune          21  \n",
            "2   normal          21  \n",
            "3    saint          15  \n",
            "4    mscan          11  \n",
            "\n",
            "[5 rows x 43 columns]\n"
          ]
        }
      ]
    },
    {
      "cell_type": "code",
      "source": [
        "# Check the shape to ensure we have all columns\n",
        "print(\"Training Data Shape:\", train_data.shape)\n",
        "print(\"Testing Data Shape:\", test_data.shape)"
      ],
      "metadata": {
        "colab": {
          "base_uri": "https://localhost:8080/"
        },
        "id": "DST_a99zSUWa",
        "outputId": "d7bbd12d-74bd-4a78-e582-e40ac4d008ec"
      },
      "execution_count": 9,
      "outputs": [
        {
          "output_type": "stream",
          "name": "stdout",
          "text": [
            "Training Data Shape: (125973, 43)\n",
            "Testing Data Shape: (22544, 43)\n"
          ]
        }
      ]
    },
    {
      "cell_type": "code",
      "source": [
        "# Summary of the label distribution\n",
        "print(\"Training Data Label Distribution:\")\n",
        "print(train_data['label'].value_counts())\n",
        "print(\"Testing Data Label Distribution:\")\n",
        "print(test_data['label'].value_counts())"
      ],
      "metadata": {
        "colab": {
          "base_uri": "https://localhost:8080/"
        },
        "id": "x7aC9RVhUWQL",
        "outputId": "d43ec13d-d25e-436b-99c3-54d2ac7a680c"
      },
      "execution_count": 10,
      "outputs": [
        {
          "output_type": "stream",
          "name": "stdout",
          "text": [
            "Training Data Label Distribution:\n",
            "label\n",
            "normal             67343\n",
            "neptune            41214\n",
            "satan               3633\n",
            "ipsweep             3599\n",
            "portsweep           2931\n",
            "smurf               2646\n",
            "nmap                1493\n",
            "back                 956\n",
            "teardrop             892\n",
            "warezclient          890\n",
            "pod                  201\n",
            "guess_passwd          53\n",
            "buffer_overflow       30\n",
            "warezmaster           20\n",
            "land                  18\n",
            "imap                  11\n",
            "rootkit               10\n",
            "loadmodule             9\n",
            "ftp_write              8\n",
            "multihop               7\n",
            "phf                    4\n",
            "perl                   3\n",
            "spy                    2\n",
            "Name: count, dtype: int64\n",
            "Testing Data Label Distribution:\n",
            "label\n",
            "normal             9711\n",
            "neptune            4657\n",
            "guess_passwd       1231\n",
            "mscan               996\n",
            "warezmaster         944\n",
            "apache2             737\n",
            "satan               735\n",
            "processtable        685\n",
            "smurf               665\n",
            "back                359\n",
            "snmpguess           331\n",
            "saint               319\n",
            "mailbomb            293\n",
            "snmpgetattack       178\n",
            "portsweep           157\n",
            "ipsweep             141\n",
            "httptunnel          133\n",
            "nmap                 73\n",
            "pod                  41\n",
            "buffer_overflow      20\n",
            "multihop             18\n",
            "named                17\n",
            "ps                   15\n",
            "sendmail             14\n",
            "rootkit              13\n",
            "xterm                13\n",
            "teardrop             12\n",
            "xlock                 9\n",
            "land                  7\n",
            "xsnoop                4\n",
            "ftp_write             3\n",
            "worm                  2\n",
            "loadmodule            2\n",
            "perl                  2\n",
            "sqlattack             2\n",
            "udpstorm              2\n",
            "phf                   2\n",
            "imap                  1\n",
            "Name: count, dtype: int64\n"
          ]
        }
      ]
    },
    {
      "cell_type": "code",
      "source": [],
      "metadata": {
        "id": "t48Ca7ZzUbiT"
      },
      "execution_count": null,
      "outputs": []
    }
  ]
}